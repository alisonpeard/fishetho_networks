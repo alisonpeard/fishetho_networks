{
 "cells": [
  {
   "cell_type": "markdown",
   "id": "953b3987",
   "metadata": {},
   "source": [
    "## Mentions\n",
    "* [StackExchange: Spearman weighted by errors](https://stats.stackexchange.com/questions/235418/how-to-weight-a-spearman-rank-correlation-by-statistical-errors) "
   ]
  },
  {
   "cell_type": "code",
   "execution_count": 1,
   "id": "fe00c6f6",
   "metadata": {},
   "outputs": [],
   "source": [
    "from os.path import exists, join\n",
    "import pandas as pd\n",
    "\n",
    "\n",
    "def make_multilevel(potential, certainty):\n",
    "    \"\"\"Combine Potential and Certainty into a multilevel dataframe.\"\"\"\n",
    "    \n",
    "    certainty_t = certainty.transpose()\n",
    "    certainty_t['level'] = ['certainty'] * 10\n",
    "\n",
    "    potential_t = potential.transpose()\n",
    "    potential_t['level'] = ['potential'] * 10\n",
    "    \n",
    "    both = pd.concat([certainty_t, potential_t])\n",
    "    both = both.groupby(['Criterion', 'level']).agg(lambda x: x)\n",
    "    both = both.transpose()\n",
    "    \n",
    "    return both\n",
    "\n",
    "def get_mles(sample):\n",
    "    \"\"\"Where sample takes 3 values: {0, 1, 2}.\"\"\"\n",
    "    n = len(sample)\n",
    "    mles = (sample.eq(0).sum() / n, sample.eq(1).sum() / n, sample.eq(2).sum() / n)\n",
    "    return mles\n",
    "\n",
    "def naneuclidean_similarity(col1, col2):\n",
    "    \"\"\"Requires normalised data. Not bounded. For use with DatFrame.corr function.\"\"\"\n",
    "    # count number present/missing\n",
    "    P = len(col1)\n",
    "    \n",
    "    # get metric\n",
    "    euclidean_dist = np.sqrt((N / P) * ((col1 - col2) ** 2).sum())\n",
    "    return 1 / (1 + euclidean_dist)\n",
    "\n",
    "def cosine_similarity(col1, col2):\n",
    "    \"\"\"Not bounded. For use with DatFrame.corr function.\"\"\"\n",
    "    P = len(col1)\n",
    "    \n",
    "    if (col1.sum() == 0) or (col2.sum() == 0):\n",
    "        return np.nan\n",
    "    \n",
    "    return (col1 * col2).sum() / ( np.sqrt((col1 ** 2).sum()) * np.sqrt((col2 ** 2).sum()))"
   ]
  },
  {
   "cell_type": "code",
   "execution_count": 3,
   "id": "ac8adb05",
   "metadata": {},
   "outputs": [
    {
     "data": {
      "text/plain": [
       "{17: 'Home range',\n",
       " 18: 'Depth range',\n",
       " 29: 'Migration',\n",
       " 30: 'Reproduction',\n",
       " 31: 'Aggregation',\n",
       " 32: 'Aggression',\n",
       " 33: 'Substrate',\n",
       " 34: 'Stress',\n",
       " 35: 'Malformation',\n",
       " 36: 'Slaughter'}"
      ]
     },
     "execution_count": 3,
     "metadata": {},
     "output_type": "execute_result"
    }
   ],
   "source": [
    "criteria_dict"
   ]
  },
  {
   "cell_type": "code",
   "execution_count": 2,
   "id": "c9a0da3a",
   "metadata": {},
   "outputs": [
    {
     "ename": "NameError",
     "evalue": "name 'np' is not defined",
     "output_type": "error",
     "traceback": [
      "\u001b[0;31m---------------------------------------------------------------------------\u001b[0m",
      "\u001b[0;31mNameError\u001b[0m                                 Traceback (most recent call last)",
      "Cell \u001b[0;32mIn [2], line 21\u001b[0m\n\u001b[1;32m     19\u001b[0m \u001b[38;5;66;03m# make a multilevel dataframe and remove negative values\u001b[39;00m\n\u001b[1;32m     20\u001b[0m idx \u001b[38;5;241m=\u001b[39m pd\u001b[38;5;241m.\u001b[39mIndexSlice\n\u001b[0;32m---> 21\u001b[0m both \u001b[38;5;241m=\u001b[39m \u001b[43mboth\u001b[49m\u001b[38;5;241;43m.\u001b[39;49m\u001b[43mapplymap\u001b[49m\u001b[43m(\u001b[49m\u001b[38;5;28;43;01mlambda\u001b[39;49;00m\u001b[43m \u001b[49m\u001b[43mx\u001b[49m\u001b[43m:\u001b[49m\u001b[43m \u001b[49m\u001b[43mnp\u001b[49m\u001b[38;5;241;43m.\u001b[39;49m\u001b[43mnan\u001b[49m\u001b[43m \u001b[49m\u001b[38;5;28;43;01mif\u001b[39;49;00m\u001b[43m \u001b[49m\u001b[43mx\u001b[49m\u001b[43m \u001b[49m\u001b[38;5;241;43m<\u001b[39;49m\u001b[43m \u001b[49m\u001b[38;5;241;43m0\u001b[39;49m\u001b[43m \u001b[49m\u001b[38;5;28;43;01melse\u001b[39;49;00m\u001b[43m \u001b[49m\u001b[43mx\u001b[49m\u001b[43m)\u001b[49m\n\u001b[1;32m     22\u001b[0m potential \u001b[38;5;241m=\u001b[39m both\u001b[38;5;241m.\u001b[39mloc[:, idx[:, \u001b[38;5;124m'\u001b[39m\u001b[38;5;124mpotential\u001b[39m\u001b[38;5;124m'\u001b[39m]]\u001b[38;5;241m.\u001b[39mdroplevel(\u001b[38;5;124m'\u001b[39m\u001b[38;5;124mlevel\u001b[39m\u001b[38;5;124m'\u001b[39m, axis\u001b[38;5;241m=\u001b[39m\u001b[38;5;241m1\u001b[39m)\n\u001b[1;32m     24\u001b[0m \u001b[38;5;66;03m# get normalised rank transformations (to use with quantitative distance measures such as Euclidean)\u001b[39;00m\n",
      "File \u001b[0;32m~/miniconda3/envs/fishethobase/lib/python3.10/site-packages/pandas/core/frame.py:9640\u001b[0m, in \u001b[0;36mDataFrame.applymap\u001b[0;34m(self, func, na_action, **kwargs)\u001b[0m\n\u001b[1;32m   9637\u001b[0m         \u001b[38;5;28;01mreturn\u001b[39;00m lib\u001b[38;5;241m.\u001b[39mmap_infer(x, func, ignore_na\u001b[38;5;241m=\u001b[39mignore_na)\n\u001b[1;32m   9638\u001b[0m     \u001b[38;5;28;01mreturn\u001b[39;00m lib\u001b[38;5;241m.\u001b[39mmap_infer(x\u001b[38;5;241m.\u001b[39mastype(\u001b[38;5;28mobject\u001b[39m)\u001b[38;5;241m.\u001b[39m_values, func, ignore_na\u001b[38;5;241m=\u001b[39mignore_na)\n\u001b[0;32m-> 9640\u001b[0m \u001b[38;5;28;01mreturn\u001b[39;00m \u001b[38;5;28;43mself\u001b[39;49m\u001b[38;5;241;43m.\u001b[39;49m\u001b[43mapply\u001b[49m\u001b[43m(\u001b[49m\u001b[43minfer\u001b[49m\u001b[43m)\u001b[49m\u001b[38;5;241m.\u001b[39m__finalize__(\u001b[38;5;28mself\u001b[39m, \u001b[38;5;124m\"\u001b[39m\u001b[38;5;124mapplymap\u001b[39m\u001b[38;5;124m\"\u001b[39m)\n",
      "File \u001b[0;32m~/miniconda3/envs/fishethobase/lib/python3.10/site-packages/pandas/core/frame.py:9555\u001b[0m, in \u001b[0;36mDataFrame.apply\u001b[0;34m(self, func, axis, raw, result_type, args, **kwargs)\u001b[0m\n\u001b[1;32m   9544\u001b[0m \u001b[38;5;28;01mfrom\u001b[39;00m \u001b[38;5;21;01mpandas\u001b[39;00m\u001b[38;5;21;01m.\u001b[39;00m\u001b[38;5;21;01mcore\u001b[39;00m\u001b[38;5;21;01m.\u001b[39;00m\u001b[38;5;21;01mapply\u001b[39;00m \u001b[38;5;28;01mimport\u001b[39;00m frame_apply\n\u001b[1;32m   9546\u001b[0m op \u001b[38;5;241m=\u001b[39m frame_apply(\n\u001b[1;32m   9547\u001b[0m     \u001b[38;5;28mself\u001b[39m,\n\u001b[1;32m   9548\u001b[0m     func\u001b[38;5;241m=\u001b[39mfunc,\n\u001b[0;32m   (...)\u001b[0m\n\u001b[1;32m   9553\u001b[0m     kwargs\u001b[38;5;241m=\u001b[39mkwargs,\n\u001b[1;32m   9554\u001b[0m )\n\u001b[0;32m-> 9555\u001b[0m \u001b[38;5;28;01mreturn\u001b[39;00m \u001b[43mop\u001b[49m\u001b[38;5;241;43m.\u001b[39;49m\u001b[43mapply\u001b[49m\u001b[43m(\u001b[49m\u001b[43m)\u001b[49m\u001b[38;5;241m.\u001b[39m__finalize__(\u001b[38;5;28mself\u001b[39m, method\u001b[38;5;241m=\u001b[39m\u001b[38;5;124m\"\u001b[39m\u001b[38;5;124mapply\u001b[39m\u001b[38;5;124m\"\u001b[39m)\n",
      "File \u001b[0;32m~/miniconda3/envs/fishethobase/lib/python3.10/site-packages/pandas/core/apply.py:746\u001b[0m, in \u001b[0;36mFrameApply.apply\u001b[0;34m(self)\u001b[0m\n\u001b[1;32m    743\u001b[0m \u001b[38;5;28;01melif\u001b[39;00m \u001b[38;5;28mself\u001b[39m\u001b[38;5;241m.\u001b[39mraw:\n\u001b[1;32m    744\u001b[0m     \u001b[38;5;28;01mreturn\u001b[39;00m \u001b[38;5;28mself\u001b[39m\u001b[38;5;241m.\u001b[39mapply_raw()\n\u001b[0;32m--> 746\u001b[0m \u001b[38;5;28;01mreturn\u001b[39;00m \u001b[38;5;28;43mself\u001b[39;49m\u001b[38;5;241;43m.\u001b[39;49m\u001b[43mapply_standard\u001b[49m\u001b[43m(\u001b[49m\u001b[43m)\u001b[49m\n",
      "File \u001b[0;32m~/miniconda3/envs/fishethobase/lib/python3.10/site-packages/pandas/core/apply.py:873\u001b[0m, in \u001b[0;36mFrameApply.apply_standard\u001b[0;34m(self)\u001b[0m\n\u001b[1;32m    872\u001b[0m \u001b[38;5;28;01mdef\u001b[39;00m \u001b[38;5;21mapply_standard\u001b[39m(\u001b[38;5;28mself\u001b[39m):\n\u001b[0;32m--> 873\u001b[0m     results, res_index \u001b[38;5;241m=\u001b[39m \u001b[38;5;28;43mself\u001b[39;49m\u001b[38;5;241;43m.\u001b[39;49m\u001b[43mapply_series_generator\u001b[49m\u001b[43m(\u001b[49m\u001b[43m)\u001b[49m\n\u001b[1;32m    875\u001b[0m     \u001b[38;5;66;03m# wrap results\u001b[39;00m\n\u001b[1;32m    876\u001b[0m     \u001b[38;5;28;01mreturn\u001b[39;00m \u001b[38;5;28mself\u001b[39m\u001b[38;5;241m.\u001b[39mwrap_results(results, res_index)\n",
      "File \u001b[0;32m~/miniconda3/envs/fishethobase/lib/python3.10/site-packages/pandas/core/apply.py:889\u001b[0m, in \u001b[0;36mFrameApply.apply_series_generator\u001b[0;34m(self)\u001b[0m\n\u001b[1;32m    886\u001b[0m \u001b[38;5;28;01mwith\u001b[39;00m option_context(\u001b[38;5;124m\"\u001b[39m\u001b[38;5;124mmode.chained_assignment\u001b[39m\u001b[38;5;124m\"\u001b[39m, \u001b[38;5;28;01mNone\u001b[39;00m):\n\u001b[1;32m    887\u001b[0m     \u001b[38;5;28;01mfor\u001b[39;00m i, v \u001b[38;5;129;01min\u001b[39;00m \u001b[38;5;28menumerate\u001b[39m(series_gen):\n\u001b[1;32m    888\u001b[0m         \u001b[38;5;66;03m# ignore SettingWithCopy here in case the user mutates\u001b[39;00m\n\u001b[0;32m--> 889\u001b[0m         results[i] \u001b[38;5;241m=\u001b[39m \u001b[38;5;28;43mself\u001b[39;49m\u001b[38;5;241;43m.\u001b[39;49m\u001b[43mf\u001b[49m\u001b[43m(\u001b[49m\u001b[43mv\u001b[49m\u001b[43m)\u001b[49m\n\u001b[1;32m    890\u001b[0m         \u001b[38;5;28;01mif\u001b[39;00m \u001b[38;5;28misinstance\u001b[39m(results[i], ABCSeries):\n\u001b[1;32m    891\u001b[0m             \u001b[38;5;66;03m# If we have a view on v, we need to make a copy because\u001b[39;00m\n\u001b[1;32m    892\u001b[0m             \u001b[38;5;66;03m#  series_generator will swap out the underlying data\u001b[39;00m\n\u001b[1;32m    893\u001b[0m             results[i] \u001b[38;5;241m=\u001b[39m results[i]\u001b[38;5;241m.\u001b[39mcopy(deep\u001b[38;5;241m=\u001b[39m\u001b[38;5;28;01mFalse\u001b[39;00m)\n",
      "File \u001b[0;32m~/miniconda3/envs/fishethobase/lib/python3.10/site-packages/pandas/core/frame.py:9638\u001b[0m, in \u001b[0;36mDataFrame.applymap.<locals>.infer\u001b[0;34m(x)\u001b[0m\n\u001b[1;32m   9636\u001b[0m \u001b[38;5;28;01mif\u001b[39;00m x\u001b[38;5;241m.\u001b[39mempty:\n\u001b[1;32m   9637\u001b[0m     \u001b[38;5;28;01mreturn\u001b[39;00m lib\u001b[38;5;241m.\u001b[39mmap_infer(x, func, ignore_na\u001b[38;5;241m=\u001b[39mignore_na)\n\u001b[0;32m-> 9638\u001b[0m \u001b[38;5;28;01mreturn\u001b[39;00m \u001b[43mlib\u001b[49m\u001b[38;5;241;43m.\u001b[39;49m\u001b[43mmap_infer\u001b[49m\u001b[43m(\u001b[49m\u001b[43mx\u001b[49m\u001b[38;5;241;43m.\u001b[39;49m\u001b[43mastype\u001b[49m\u001b[43m(\u001b[49m\u001b[38;5;28;43mobject\u001b[39;49m\u001b[43m)\u001b[49m\u001b[38;5;241;43m.\u001b[39;49m\u001b[43m_values\u001b[49m\u001b[43m,\u001b[49m\u001b[43m \u001b[49m\u001b[43mfunc\u001b[49m\u001b[43m,\u001b[49m\u001b[43m \u001b[49m\u001b[43mignore_na\u001b[49m\u001b[38;5;241;43m=\u001b[39;49m\u001b[43mignore_na\u001b[49m\u001b[43m)\u001b[49m\n",
      "File \u001b[0;32m~/miniconda3/envs/fishethobase/lib/python3.10/site-packages/pandas/_libs/lib.pyx:2918\u001b[0m, in \u001b[0;36mpandas._libs.lib.map_infer\u001b[0;34m()\u001b[0m\n",
      "Cell \u001b[0;32mIn [2], line 21\u001b[0m, in \u001b[0;36m<lambda>\u001b[0;34m(x)\u001b[0m\n\u001b[1;32m     19\u001b[0m \u001b[38;5;66;03m# make a multilevel dataframe and remove negative values\u001b[39;00m\n\u001b[1;32m     20\u001b[0m idx \u001b[38;5;241m=\u001b[39m pd\u001b[38;5;241m.\u001b[39mIndexSlice\n\u001b[0;32m---> 21\u001b[0m both \u001b[38;5;241m=\u001b[39m both\u001b[38;5;241m.\u001b[39mapplymap(\u001b[38;5;28;01mlambda\u001b[39;00m x: \u001b[43mnp\u001b[49m\u001b[38;5;241m.\u001b[39mnan \u001b[38;5;28;01mif\u001b[39;00m x \u001b[38;5;241m<\u001b[39m \u001b[38;5;241m0\u001b[39m \u001b[38;5;28;01melse\u001b[39;00m x)\n\u001b[1;32m     22\u001b[0m potential \u001b[38;5;241m=\u001b[39m both\u001b[38;5;241m.\u001b[39mloc[:, idx[:, \u001b[38;5;124m'\u001b[39m\u001b[38;5;124mpotential\u001b[39m\u001b[38;5;124m'\u001b[39m]]\u001b[38;5;241m.\u001b[39mdroplevel(\u001b[38;5;124m'\u001b[39m\u001b[38;5;124mlevel\u001b[39m\u001b[38;5;124m'\u001b[39m, axis\u001b[38;5;241m=\u001b[39m\u001b[38;5;241m1\u001b[39m)\n\u001b[1;32m     24\u001b[0m \u001b[38;5;66;03m# get normalised rank transformations (to use with quantitative distance measures such as Euclidean)\u001b[39;00m\n",
      "\u001b[0;31mNameError\u001b[0m: name 'np' is not defined"
     ]
    }
   ],
   "source": [
    "wd = join('..', '..', 'data')\n",
    "df = pd.read_csv(join(wd, 'feb_farm_data_s2.csv'))\n",
    "\n",
    "# get criterion dictionary\n",
    "criteria_df = df.head(10)[['Criterion.1', 'Unnamed: 7']].set_index('Criterion.1')\n",
    "criteria_df.index.name = 'index'\n",
    "criteria_df.columns = ['criterion']\n",
    "criteria_dict = {int(val): name for val, name in zip(criteria_df.index, criteria_df['criterion'])}\n",
    "criteria_dict_r = {value: key for key, value in criteria_dict.items()}\n",
    "\n",
    "# set up dataframe for each of likelihood, potential, and uncertainty\n",
    "likelihood = df.pivot(index=\"Fish ID\", columns=\"Criterion\", values=\"Likelihood\")\n",
    "potential = df.pivot(index=\"Fish ID\", columns=\"Criterion\", values=\"Potential\")\n",
    "certainty = df.pivot(index=\"Fish ID\", columns=\"Criterion\", values=\"Certainty\")\n",
    "\n",
    "# combine into one multiindex df (useful for operations later)\n",
    "both = make_multilevel(potential, certainty)\n",
    "\n",
    "# make a multilevel dataframe and remove negative values\n",
    "idx = pd.IndexSlice\n",
    "both = both.applymap(lambda x: np.nan if x < 0 else x)\n",
    "potential = both.loc[:, idx[:, 'potential']].droplevel('level', axis=1)\n",
    "\n",
    "# get normalised rank transformations (to use with quantitative distance measures such as Euclidean)\n",
    "potential_z = (potential) / (3 - 1)"
   ]
  },
  {
   "cell_type": "markdown",
   "id": "0069e12d",
   "metadata": {},
   "source": [
    "### Basic bootstrap\n",
    "Not accounting for similarity or NaNs, but bootstrapping to get confidence intervals for the correlation."
   ]
  },
  {
   "cell_type": "code",
   "execution_count": 208,
   "id": "334d73fa",
   "metadata": {},
   "outputs": [
    {
     "data": {
      "text/plain": [
       "{17: 'Home range',\n",
       " 18: 'Depth range',\n",
       " 29: 'Migration',\n",
       " 30: 'Reproduction',\n",
       " 31: 'Aggregation',\n",
       " 32: 'Aggression',\n",
       " 33: 'Substrate',\n",
       " 34: 'Stress',\n",
       " 35: 'Malformation',\n",
       " 36: 'Slaughter'}"
      ]
     },
     "execution_count": 208,
     "metadata": {},
     "output_type": "execute_result"
    }
   ],
   "source": [
    "criteria_dict"
   ]
  },
  {
   "cell_type": "code",
   "execution_count": 213,
   "id": "2c977134",
   "metadata": {},
   "outputs": [
    {
     "name": "stdout",
     "output_type": "stream",
     "text": [
      "Mean similarity: 0.41 with standard error 0.23\n"
     ]
    },
    {
     "data": {
      "text/plain": [
       "(0.4114707157192254, 0.23003266396818917)"
      ]
     },
     "execution_count": 213,
     "metadata": {},
     "output_type": "execute_result"
    },
    {
     "data": {
      "image/png": "[encoded data removed]",
      "text/plain": [
       "<Figure size 640x480 with 1 Axes>"
      ]
     },
     "metadata": {},
     "output_type": "display_data"
    }
   ],
   "source": [
    "def bootstrap(measure, cols, B=1000, n=30, simfunc='spearman', plot=True):\n",
    "\n",
    "    N = len(measure)\n",
    "    similarities = []\n",
    "\n",
    "    for b in range(B):\n",
    "        sample = measure.sample(n, replace=True)\n",
    "        similarity = sample.corr(method=simfunc).loc[cols[0], cols[1]]\n",
    "        similarities.append(similarity)\n",
    "\n",
    "    mean_sim = np.nanmean(similarities)\n",
    "    se_sim = np.nanstd(similarities)\n",
    "\n",
    "    print(f\"Mean similarity: {mean_sim:.2f} with standard error {se_sim:.2f}\")\n",
    "    if plot:\n",
    "        plt.hist(similarities, bins=100);\n",
    "        \n",
    "    return mean_sim, se_sim\n",
    "\n",
    "bootstrap(potential, (17, 18))"
   ]
  },
  {
   "cell_type": "code",
   "execution_count": null,
   "id": "e2e47c43",
   "metadata": {},
   "outputs": [],
   "source": []
  },
  {
   "cell_type": "markdown",
   "id": "82fac884",
   "metadata": {},
   "source": [
    "# MLE stuff (leaving be)"
   ]
  },
  {
   "cell_type": "code",
   "execution_count": 90,
   "id": "ab32b417",
   "metadata": {},
   "outputs": [],
   "source": [
    "# Get the error bars for v1\n",
    "low = v1[v1.certainty == 0]['potential']\n",
    "medium = v1[v1.certainty == 1]['potential']\n",
    "high = v1[v1.certainty == 2]['potential']\n",
    "\n"
   ]
  },
  {
   "cell_type": "code",
   "execution_count": 120,
   "id": "17c72fe3",
   "metadata": {},
   "outputs": [
    {
     "name": "stdout",
     "output_type": "stream",
     "text": [
      "Distribution for Potential, given low certainty\n",
      "MLE (p0, p1, p2)=(0.06, 0.11, 0.00)\n",
      "with standard errors (0.10, 0.14, 0.00)\n"
     ]
    }
   ],
   "source": [
    "level, level_string = (low, 'low')\n",
    "\n",
    "B = 1000  # number of bootstrap samples\n",
    "n = 5     # sample size\n",
    "\n",
    "low_mles = []\n",
    "medium_mles = []\n",
    "high_mles = []\n",
    "\n",
    "for b in range(B):\n",
    "    sample = level.sample(n, replace=True)\n",
    "    low_mle, medium_mle, high_mle = get_mles(sample)\n",
    "    low_mles.append(low_mle)\n",
    "    medium_mles.append(medium_mle)\n",
    "    high_mles.append(high_mle)\n",
    "    \n",
    "plow_mle = level.eq(0).sum() / len(level)\n",
    "pmedium_mle = level.eq(1).sum() / len(level)\n",
    "phigh_mle = level.eq(2).sum() / len(level)\n",
    "\n",
    "plow_std = np.std(low_mles)\n",
    "pmedium_std = np.std(medium_mles)\n",
    "phigh_std = np.std(high_mles)\n",
    "\n",
    "print(f\"Distribution for Potential, given {level_string} certainty\")\n",
    "print(f\"MLE (p0, p1, p2)=({plow_mle:.2f}, {pmedium_mle:.2f}, {phigh_mle:.2f})\")\n",
    "print(f\"with standard errors ({plow_std:.2f}, {pmedium_std:.2f}, {phigh_std:.2f})\")"
   ]
  },
  {
   "cell_type": "code",
   "execution_count": 122,
   "id": "daf8fe4d",
   "metadata": {},
   "outputs": [
    {
     "name": "stdout",
     "output_type": "stream",
     "text": [
      "Distribution for Potential, given medium certainty\n",
      "MLE (p0, p1, p2)=(0.22, 0.43, 0.13)\n",
      "with standard errors (0.19, 0.23, 0.15)\n"
     ]
    }
   ],
   "source": [
    "level, level_string = (medium, 'medium')\n",
    "\n",
    "B = 1000  # number of bootstrap samples\n",
    "n = 5     # sample size\n",
    "\n",
    "low_mles = []\n",
    "medium_mles = []\n",
    "high_mles = []\n",
    "\n",
    "for b in range(B):\n",
    "    sample = level.sample(n, replace=True)\n",
    "    low_mle, medium_mle, high_mle = get_mles(sample)\n",
    "    low_mles.append(low_mle)\n",
    "    medium_mles.append(medium_mle)\n",
    "    high_mles.append(high_mle)\n",
    "    \n",
    "plow_mle = level.eq(0).sum() / len(level)\n",
    "pmedium_mle = level.eq(1).sum() / len(level)\n",
    "phigh_mle = level.eq(2).sum() / len(level)\n",
    "\n",
    "plow_std = np.std(low_mles)\n",
    "pmedium_std = np.std(medium_mles)\n",
    "phigh_std = np.std(high_mles)\n",
    "\n",
    "print(f\"Distribution for Potential, given {level_string} certainty\")\n",
    "print(f\"MLE (p0, p1, p2)=({plow_mle:.2f}, {pmedium_mle:.2f}, {phigh_mle:.2f})\")\n",
    "print(f\"with standard errors ({plow_std:.2f}, {pmedium_std:.2f}, {phigh_std:.2f})\")"
   ]
  },
  {
   "cell_type": "code",
   "execution_count": 121,
   "id": "6498e102",
   "metadata": {},
   "outputs": [
    {
     "name": "stdout",
     "output_type": "stream",
     "text": [
      "Distribution for Potential, given high certainty\n",
      "MLE (p0, p1, p2)=(0.69, 0.23, 0.08)\n",
      "with standard errors (0.20, 0.18, 0.12)\n"
     ]
    }
   ],
   "source": [
    "level, level_string = (high, 'high')\n",
    "\n",
    "B = 1000  # number of bootstrap samples\n",
    "n = 5     # sample size\n",
    "\n",
    "low_mles = []\n",
    "medium_mles = []\n",
    "high_mles = []\n",
    "\n",
    "for b in range(B):\n",
    "    sample = level.sample(n, replace=True)\n",
    "    low_mle, medium_mle, high_mle = get_mles(sample)\n",
    "    low_mles.append(low_mle)\n",
    "    medium_mles.append(medium_mle)\n",
    "    high_mles.append(high_mle)\n",
    "    \n",
    "plow_mle = level.eq(0).sum() / len(level)\n",
    "pmedium_mle = level.eq(1).sum() / len(level)\n",
    "phigh_mle = level.eq(2).sum() / len(level)\n",
    "\n",
    "plow_std = np.std(low_mles)\n",
    "pmedium_std = np.std(medium_mles)\n",
    "phigh_std = np.std(high_mles)\n",
    "\n",
    "print(f\"Distribution for Potential, given {level_string} certainty\")\n",
    "print(f\"MLE (p0, p1, p2)=({plow_mle:.2f}, {pmedium_mle:.2f}, {phigh_mle:.2f})\")\n",
    "print(f\"with standard errors ({plow_std:.2f}, {pmedium_std:.2f}, {phigh_std:.2f})\")"
   ]
  },
  {
   "cell_type": "markdown",
   "id": "ab3b2ea0",
   "metadata": {},
   "source": [
    "### Weighted Spearman rank correlation\n",
    "[Stack exchange here](https://stats.stackexchange.com/questions/235418/how-to-weight-a-spearman-rank-correlation-by-statistical-errors)"
   ]
  },
  {
   "cell_type": "code",
   "execution_count": null,
   "id": "1e07e861",
   "metadata": {},
   "outputs": [],
   "source": []
  }
 ],
 "metadata": {
  "kernelspec": {
   "display_name": "fishethobase",
   "language": "python",
   "name": "fishethobase"
  },
  "language_info": {
   "codemirror_mode": {
    "name": "ipython",
    "version": 3
   },
   "file_extension": ".py",
   "mimetype": "text/x-python",
   "name": "python",
   "nbconvert_exporter": "python",
   "pygments_lexer": "ipython3",
   "version": "3.10.8"
  }
 },
 "nbformat": 4,
 "nbformat_minor": 5
}
