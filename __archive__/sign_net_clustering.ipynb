{
 "cells": [
  {
   "cell_type": "code",
   "execution_count": 1,
   "metadata": {},
   "outputs": [],
   "source": [
    "import numpy as np\n",
    "import scipy.optimize as opt\n",
    "import matplotlib.pyplot as plt\n",
    "%matplotlib inline\n",
    "import networkx as nx\n",
    "import igraph as ig\n",
    "from sklearn.decomposition import PCA\n",
    "from sklearn.decomposition import TruncatedSVD\n",
    "from sklearn.preprocessing import StandardScaler\n",
    "import pandas as pd\n",
    "from joblib import Parallel, delayed \n",
    "import random\n",
    "from scipy.linalg import sqrtm\n",
    "import scipy"
   ]
  },
  {
   "cell_type": "code",
   "execution_count": 2,
   "metadata": {},
   "outputs": [],
   "source": [
    "def sponge(G):\n",
    "\n",
    "    selected_edges = [(u,v) for u,v in G.edges if G[u][v]['weight'] < 0]\n",
    "\n",
    "    G_neg = nx.Graph()\n",
    "    G_neg.add_nodes_from(G)\n",
    "    G_neg.add_edges_from(selected_edges)\n",
    "    degree_neg = [val for (node, val) in G_neg.degree()]\n",
    "    D_neg = np.diag(degree_neg)\n",
    "    A_neg = nx.to_numpy_array(G_neg)\n",
    "    L_neg = D_neg - A_neg\n",
    "\n",
    "    \n",
    "    selected_edges = [(u,v) for u,v in G.edges if G[u][v]['weight'] > 0]\n",
    "    G_pos = nx.Graph()\n",
    "    G_pos.add_nodes_from(G)\n",
    "    G_pos.add_edges_from(selected_edges)\n",
    "    degree_pos = [val for (node, val) in G_pos.degree()]\n",
    "    D_pos = np.diag(degree_pos)\n",
    "    A_pos = nx.to_numpy_array(G_pos)\n",
    "    L_pos = D_pos - A_pos\n",
    "    \n",
    "    \n",
    "    N = L_neg + D_pos\n",
    "    D, V = scipy.linalg.eigh(N)\n",
    "    Bs = (V * np.sqrt(D)) @ V.T\n",
    "    M1 = np.linalg.inv(Bs)\n",
    "    M2 = L_pos + D_neg\n",
    "    \n",
    "    step1 = np.matmul(M1, M2)\n",
    "    step2 = np.matmul(step1, M1)\n",
    "    \n",
    "    return step2"
   ]
  },
  {
   "cell_type": "code",
   "execution_count": 3,
   "metadata": {},
   "outputs": [
    {
     "ename": "NameError",
     "evalue": "name 'G' is not defined",
     "output_type": "error",
     "traceback": [
      "\u001b[0;31m---------------------------------------------------------------------------\u001b[0m",
      "\u001b[0;31mNameError\u001b[0m                                 Traceback (most recent call last)",
      "\u001b[0;32m<ipython-input-3-b3449bdf2022>\u001b[0m in \u001b[0;36m<module>\u001b[0;34m\u001b[0m\n\u001b[1;32m      2\u001b[0m \u001b[0;31m#apply k-means clustering with n_clust = k+1\u001b[0m\u001b[0;34m\u001b[0m\u001b[0;34m\u001b[0m\u001b[0;34m\u001b[0m\u001b[0m\n\u001b[1;32m      3\u001b[0m \u001b[0;34m\u001b[0m\u001b[0m\n\u001b[0;32m----> 4\u001b[0;31m \u001b[0mval\u001b[0m\u001b[0;34m,\u001b[0m \u001b[0mvect\u001b[0m  \u001b[0;34m=\u001b[0m \u001b[0mnp\u001b[0m\u001b[0;34m.\u001b[0m\u001b[0mlinalg\u001b[0m\u001b[0;34m.\u001b[0m\u001b[0meigh\u001b[0m\u001b[0;34m(\u001b[0m\u001b[0msponge\u001b[0m\u001b[0;34m(\u001b[0m\u001b[0mG\u001b[0m\u001b[0;34m)\u001b[0m\u001b[0;34m)\u001b[0m\u001b[0;34m\u001b[0m\u001b[0;34m\u001b[0m\u001b[0m\n\u001b[0m\u001b[1;32m      5\u001b[0m \u001b[0;34m\u001b[0m\u001b[0m\n\u001b[1;32m      6\u001b[0m \u001b[0mpositions\u001b[0m \u001b[0;34m=\u001b[0m \u001b[0mvect\u001b[0m\u001b[0;34m[\u001b[0m\u001b[0;34m:\u001b[0m\u001b[0;34m,\u001b[0m\u001b[0;36m0\u001b[0m\u001b[0;34m:\u001b[0m\u001b[0mk\u001b[0m\u001b[0;34m]\u001b[0m\u001b[0;34m\u001b[0m\u001b[0;34m\u001b[0m\u001b[0m\n",
      "\u001b[0;31mNameError\u001b[0m: name 'G' is not defined"
     ]
    }
   ],
   "source": [
    "#to find k+1 clusters, use the k smallest eigenvectors of the sponge matrix as the positions \n",
    "#apply k-means clustering with n_clust = k+1\n",
    "\n",
    "#paper: https://arxiv.org/abs/1904.08575\n",
    "\n",
    "val, vect  = np.linalg.eigh(sponge(G))\n",
    "\n",
    "positions = vect[:,0:k]"
   ]
  },
  {
   "cell_type": "code",
   "execution_count": null,
   "metadata": {},
   "outputs": [],
   "source": [
    "#other method from traag, community spinglass \n",
    "#i usually use networkx so just convert to igraph first \n",
    "#you can experiment with changing the gamma and gamma.minus params as explained in the documentation \n",
    "#https://igraph.org/r/doc/cluster_spinglass.html\n",
    "\n",
    "h = ig.Graph.from_networkx(G)\n",
    "ig.summary(h)\n",
    "communities = h.community_spinglass(weights = \"tie\", implementation=\"neg\")\n",
    "\n",
    "clustering = [set() for i in list(set(communities.membership))]\n",
    "for i in range(len(communities.membership)):\n",
    "    clustering[communities.membership[i]].add(i)"
   ]
  },
  {
   "cell_type": "code",
   "execution_count": null,
   "metadata": {},
   "outputs": [],
   "source": [
    "plt.hist(communities.membership)"
   ]
  }
 ],
 "metadata": {
  "kernelspec": {
   "display_name": "Python 3 (ipykernel)",
   "language": "python",
   "name": "python3"
  },
  "language_info": {
   "codemirror_mode": {
    "name": "ipython",
    "version": 3
   },
   "file_extension": ".py",
   "mimetype": "text/x-python",
   "name": "python",
   "nbconvert_exporter": "python",
   "pygments_lexer": "ipython3",
   "version": "3.10.8"
  }
 },
 "nbformat": 4,
 "nbformat_minor": 4
}
